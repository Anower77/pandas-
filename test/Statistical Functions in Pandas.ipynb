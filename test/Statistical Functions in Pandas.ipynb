{
 "cells": [
  {
   "cell_type": "markdown",
   "id": "f9cf0054-3179-4436-bfe7-157fa7f2098f",
   "metadata": {},
   "source": [
    "## Statistical Functions in Pandas"
   ]
  },
  {
   "cell_type": "code",
   "execution_count": 7,
   "id": "eed4880f-fc17-4bff-97de-514bf08d89b0",
   "metadata": {},
   "outputs": [
    {
     "data": {
      "text/html": [
       "<div>\n",
       "<style scoped>\n",
       "    .dataframe tbody tr th:only-of-type {\n",
       "        vertical-align: middle;\n",
       "    }\n",
       "\n",
       "    .dataframe tbody tr th {\n",
       "        vertical-align: top;\n",
       "    }\n",
       "\n",
       "    .dataframe thead th {\n",
       "        text-align: right;\n",
       "    }\n",
       "</style>\n",
       "<table border=\"1\" class=\"dataframe\">\n",
       "  <thead>\n",
       "    <tr style=\"text-align: right;\">\n",
       "      <th></th>\n",
       "      <th>index</th>\n",
       "      <th>Date</th>\n",
       "      <th>Week Day</th>\n",
       "      <th>Total Screen Time</th>\n",
       "      <th>Social Networking</th>\n",
       "      <th>Reading and Reference</th>\n",
       "      <th>Other</th>\n",
       "      <th>Productivity</th>\n",
       "      <th>Health and Fitness</th>\n",
       "      <th>Entertainment</th>\n",
       "      <th>Creativity</th>\n",
       "      <th>Yoga</th>\n",
       "    </tr>\n",
       "  </thead>\n",
       "  <tbody>\n",
       "    <tr>\n",
       "      <th>0</th>\n",
       "      <td>0</td>\n",
       "      <td>04/17/19</td>\n",
       "      <td>Wednesday</td>\n",
       "      <td>187</td>\n",
       "      <td>89</td>\n",
       "      <td>17</td>\n",
       "      <td>41</td>\n",
       "      <td>22</td>\n",
       "      <td>0</td>\n",
       "      <td>0</td>\n",
       "      <td>0</td>\n",
       "      <td>0</td>\n",
       "    </tr>\n",
       "    <tr>\n",
       "      <th>1</th>\n",
       "      <td>1</td>\n",
       "      <td>04/18/19</td>\n",
       "      <td>Thursday</td>\n",
       "      <td>123</td>\n",
       "      <td>78</td>\n",
       "      <td>17</td>\n",
       "      <td>8</td>\n",
       "      <td>9</td>\n",
       "      <td>0</td>\n",
       "      <td>0</td>\n",
       "      <td>0</td>\n",
       "      <td>0</td>\n",
       "    </tr>\n",
       "    <tr>\n",
       "      <th>2</th>\n",
       "      <td>2</td>\n",
       "      <td>04/19/19</td>\n",
       "      <td>Friday</td>\n",
       "      <td>112</td>\n",
       "      <td>52</td>\n",
       "      <td>40</td>\n",
       "      <td>8</td>\n",
       "      <td>4</td>\n",
       "      <td>0</td>\n",
       "      <td>3</td>\n",
       "      <td>0</td>\n",
       "      <td>0</td>\n",
       "    </tr>\n",
       "    <tr>\n",
       "      <th>3</th>\n",
       "      <td>3</td>\n",
       "      <td>04/20/19</td>\n",
       "      <td>Saturday</td>\n",
       "      <td>101</td>\n",
       "      <td>69</td>\n",
       "      <td>9</td>\n",
       "      <td>38</td>\n",
       "      <td>2</td>\n",
       "      <td>0</td>\n",
       "      <td>3</td>\n",
       "      <td>0</td>\n",
       "      <td>0</td>\n",
       "    </tr>\n",
       "    <tr>\n",
       "      <th>4</th>\n",
       "      <td>4</td>\n",
       "      <td>04/21/19</td>\n",
       "      <td>Sunday</td>\n",
       "      <td>56</td>\n",
       "      <td>35</td>\n",
       "      <td>2</td>\n",
       "      <td>43</td>\n",
       "      <td>3</td>\n",
       "      <td>0</td>\n",
       "      <td>1</td>\n",
       "      <td>1</td>\n",
       "      <td>0</td>\n",
       "    </tr>\n",
       "  </tbody>\n",
       "</table>\n",
       "</div>"
      ],
      "text/plain": [
       "   index      Date   Week Day  Total Screen Time   Social Networking  \\\n",
       "0      0  04/17/19  Wednesday                 187                 89   \n",
       "1      1  04/18/19   Thursday                 123                 78   \n",
       "2      2  04/19/19     Friday                 112                 52   \n",
       "3      3  04/20/19   Saturday                 101                 69   \n",
       "4      4  04/21/19     Sunday                  56                 35   \n",
       "\n",
       "   Reading and Reference  Other  Productivity  Health and Fitness  \\\n",
       "0                     17     41            22                   0   \n",
       "1                     17      8             9                   0   \n",
       "2                     40      8             4                   0   \n",
       "3                      9     38             2                   0   \n",
       "4                      2     43             3                   0   \n",
       "\n",
       "   Entertainment  Creativity  Yoga  \n",
       "0              0           0     0  \n",
       "1              0           0     0  \n",
       "2              3           0     0  \n",
       "3              3           0     0  \n",
       "4              1           1     0  "
      ]
     },
     "execution_count": 7,
     "metadata": {},
     "output_type": "execute_result"
    }
   ],
   "source": [
    "import pandas as pd\n",
    "url = 'https://raw.githubusercontent.com/rashakil-ds/Public-Datasets/main/Screen%20Time%20Data.csv'\n",
    "df = pd.read_csv(url)\n",
    "df.head()"
   ]
  },
  {
   "cell_type": "code",
   "execution_count": 9,
   "id": "cbcc29b5-7bd1-41fd-b57f-d89f9b23d9ea",
   "metadata": {},
   "outputs": [
    {
     "data": {
      "text/plain": [
       "(28, 12)"
      ]
     },
     "execution_count": 9,
     "metadata": {},
     "output_type": "execute_result"
    }
   ],
   "source": [
    "df.shape"
   ]
  },
  {
   "cell_type": "code",
   "execution_count": 10,
   "id": "972fdfa5-3453-40dd-93a0-69b497f98468",
   "metadata": {},
   "outputs": [
    {
     "data": {
      "text/plain": [
       "RangeIndex(start=0, stop=28, step=1)"
      ]
     },
     "execution_count": 10,
     "metadata": {},
     "output_type": "execute_result"
    }
   ],
   "source": [
    "df.index"
   ]
  },
  {
   "cell_type": "code",
   "execution_count": 11,
   "id": "7656260d-62e2-4a55-b67b-1a1bf32dec83",
   "metadata": {},
   "outputs": [
    {
     "data": {
      "text/plain": [
       "28"
      ]
     },
     "execution_count": 11,
     "metadata": {},
     "output_type": "execute_result"
    }
   ],
   "source": [
    "len(df)"
   ]
  },
  {
   "cell_type": "code",
   "execution_count": 13,
   "id": "e4dad517-283a-4f3d-83b2-1468b82111e9",
   "metadata": {},
   "outputs": [
    {
     "data": {
      "text/plain": [
       "np.int64(198)"
      ]
     },
     "execution_count": 13,
     "metadata": {},
     "output_type": "execute_result"
    }
   ],
   "source": [
    "# MAX\n",
    "df['Total Screen Time '].max()"
   ]
  },
  {
   "cell_type": "code",
   "execution_count": 14,
   "id": "e5288e7f-f188-420f-bfb2-44e14511066e",
   "metadata": {},
   "outputs": [
    {
     "data": {
      "text/plain": [
       "np.int64(52)"
      ]
     },
     "execution_count": 14,
     "metadata": {},
     "output_type": "execute_result"
    }
   ],
   "source": [
    "# MIN\n",
    "df['Total Screen Time '].min()"
   ]
  },
  {
   "cell_type": "code",
   "execution_count": 15,
   "id": "61bab772-0b72-4e12-bfd7-9d8dc6305486",
   "metadata": {},
   "outputs": [
    {
     "data": {
      "text/plain": [
       "np.float64(113.25)"
      ]
     },
     "execution_count": 15,
     "metadata": {},
     "output_type": "execute_result"
    }
   ],
   "source": [
    "# MEAN\n",
    "df['Total Screen Time '].mean()"
   ]
  },
  {
   "cell_type": "code",
   "execution_count": 16,
   "id": "61a2432f-b316-496d-af21-7c1d506fcc55",
   "metadata": {},
   "outputs": [
    {
     "data": {
      "text/plain": [
       "np.float64(43.562322320164775)"
      ]
     },
     "execution_count": 16,
     "metadata": {},
     "output_type": "execute_result"
    }
   ],
   "source": [
    "# STD\n",
    "df['Total Screen Time '].std()"
   ]
  },
  {
   "cell_type": "code",
   "execution_count": 18,
   "id": "f8b162de-684e-4b53-b735-159096930d81",
   "metadata": {},
   "outputs": [
    {
     "data": {
      "text/plain": [
       "0    0\n",
       "Name: Entertainment, dtype: int64"
      ]
     },
     "execution_count": 18,
     "metadata": {},
     "output_type": "execute_result"
    }
   ],
   "source": [
    "# Mode\n",
    "df['Entertainment'].mode()"
   ]
  },
  {
   "cell_type": "code",
   "execution_count": 20,
   "id": "dba530e7-7866-41bf-a22f-25cad257c6c6",
   "metadata": {},
   "outputs": [
    {
     "data": {
      "text/plain": [
       "Entertainment\n",
       "0     20\n",
       "1      4\n",
       "3      2\n",
       "32     1\n",
       "9      1\n",
       "Name: count, dtype: int64"
      ]
     },
     "execution_count": 20,
     "metadata": {},
     "output_type": "execute_result"
    }
   ],
   "source": [
    "# value_counts\n",
    "df['Entertainment'].value_counts()"
   ]
  },
  {
   "cell_type": "code",
   "execution_count": 22,
   "id": "1bddbbb2-86ba-492d-a1df-18d9940fd43d",
   "metadata": {},
   "outputs": [
    {
     "data": {
      "text/plain": [
       "np.float64(83.5)"
      ]
     },
     "execution_count": 22,
     "metadata": {},
     "output_type": "execute_result"
    }
   ],
   "source": [
    "# Quantile (25%)\n",
    "df['Total Screen Time '].quantile(0.25)"
   ]
  },
  {
   "cell_type": "code",
   "execution_count": 23,
   "id": "a39fe888-e441-4abb-b9f7-0691d5d188dc",
   "metadata": {},
   "outputs": [
    {
     "data": {
      "text/plain": [
       "np.float64(111.0)"
      ]
     },
     "execution_count": 23,
     "metadata": {},
     "output_type": "execute_result"
    }
   ],
   "source": [
    "# Quantile (25%)\n",
    "df['Total Screen Time '].quantile(0.50)"
   ]
  },
  {
   "cell_type": "code",
   "execution_count": 24,
   "id": "4ccac7f1-ea55-47fd-83a8-ec26b11b316c",
   "metadata": {},
   "outputs": [
    {
     "data": {
      "text/plain": [
       "np.float64(137.25)"
      ]
     },
     "execution_count": 24,
     "metadata": {},
     "output_type": "execute_result"
    }
   ],
   "source": [
    "# Quantile (75%)\n",
    "df['Total Screen Time '].quantile(0.75)"
   ]
  },
  {
   "cell_type": "code",
   "execution_count": 25,
   "id": "4710dab9-ce07-4111-b760-6284ce34fb4e",
   "metadata": {},
   "outputs": [
    {
     "data": {
      "text/plain": [
       "np.float64(198.0)"
      ]
     },
     "execution_count": 25,
     "metadata": {},
     "output_type": "execute_result"
    }
   ],
   "source": [
    "# Quantile 100%\n",
    "df['Total Screen Time '].quantile(1)"
   ]
  },
  {
   "cell_type": "code",
   "execution_count": 28,
   "id": "8a1aff78-2d1d-4250-82ad-d525cb92e5ad",
   "metadata": {},
   "outputs": [
    {
     "data": {
      "text/html": [
       "<div>\n",
       "<style scoped>\n",
       "    .dataframe tbody tr th:only-of-type {\n",
       "        vertical-align: middle;\n",
       "    }\n",
       "\n",
       "    .dataframe tbody tr th {\n",
       "        vertical-align: top;\n",
       "    }\n",
       "\n",
       "    .dataframe thead th {\n",
       "        text-align: right;\n",
       "    }\n",
       "</style>\n",
       "<table border=\"1\" class=\"dataframe\">\n",
       "  <thead>\n",
       "    <tr style=\"text-align: right;\">\n",
       "      <th></th>\n",
       "      <th>index</th>\n",
       "      <th>Total Screen Time</th>\n",
       "      <th>Social Networking</th>\n",
       "      <th>Reading and Reference</th>\n",
       "      <th>Other</th>\n",
       "      <th>Productivity</th>\n",
       "      <th>Health and Fitness</th>\n",
       "      <th>Entertainment</th>\n",
       "      <th>Creativity</th>\n",
       "      <th>Yoga</th>\n",
       "    </tr>\n",
       "  </thead>\n",
       "  <tbody>\n",
       "    <tr>\n",
       "      <th>count</th>\n",
       "      <td>28.000000</td>\n",
       "      <td>28.000000</td>\n",
       "      <td>28.000000</td>\n",
       "      <td>28.000000</td>\n",
       "      <td>28.000000</td>\n",
       "      <td>28.000000</td>\n",
       "      <td>28.000000</td>\n",
       "      <td>28.000000</td>\n",
       "      <td>28.000000</td>\n",
       "      <td>28.000000</td>\n",
       "    </tr>\n",
       "    <tr>\n",
       "      <th>mean</th>\n",
       "      <td>13.500000</td>\n",
       "      <td>113.250000</td>\n",
       "      <td>60.714286</td>\n",
       "      <td>8.714286</td>\n",
       "      <td>14.821429</td>\n",
       "      <td>9.071429</td>\n",
       "      <td>1.285714</td>\n",
       "      <td>1.821429</td>\n",
       "      <td>0.214286</td>\n",
       "      <td>0.571429</td>\n",
       "    </tr>\n",
       "    <tr>\n",
       "      <th>std</th>\n",
       "      <td>8.225975</td>\n",
       "      <td>43.562322</td>\n",
       "      <td>22.853571</td>\n",
       "      <td>9.340700</td>\n",
       "      <td>13.754605</td>\n",
       "      <td>6.097532</td>\n",
       "      <td>3.952094</td>\n",
       "      <td>6.188721</td>\n",
       "      <td>0.568112</td>\n",
       "      <td>0.503953</td>\n",
       "    </tr>\n",
       "    <tr>\n",
       "      <th>min</th>\n",
       "      <td>0.000000</td>\n",
       "      <td>52.000000</td>\n",
       "      <td>25.000000</td>\n",
       "      <td>0.000000</td>\n",
       "      <td>0.000000</td>\n",
       "      <td>2.000000</td>\n",
       "      <td>0.000000</td>\n",
       "      <td>0.000000</td>\n",
       "      <td>0.000000</td>\n",
       "      <td>0.000000</td>\n",
       "    </tr>\n",
       "    <tr>\n",
       "      <th>25%</th>\n",
       "      <td>6.750000</td>\n",
       "      <td>83.500000</td>\n",
       "      <td>41.750000</td>\n",
       "      <td>2.000000</td>\n",
       "      <td>4.750000</td>\n",
       "      <td>3.000000</td>\n",
       "      <td>0.000000</td>\n",
       "      <td>0.000000</td>\n",
       "      <td>0.000000</td>\n",
       "      <td>0.000000</td>\n",
       "    </tr>\n",
       "    <tr>\n",
       "      <th>50%</th>\n",
       "      <td>13.500000</td>\n",
       "      <td>111.000000</td>\n",
       "      <td>58.000000</td>\n",
       "      <td>5.000000</td>\n",
       "      <td>9.000000</td>\n",
       "      <td>8.000000</td>\n",
       "      <td>0.000000</td>\n",
       "      <td>0.000000</td>\n",
       "      <td>0.000000</td>\n",
       "      <td>1.000000</td>\n",
       "    </tr>\n",
       "    <tr>\n",
       "      <th>75%</th>\n",
       "      <td>20.250000</td>\n",
       "      <td>137.250000</td>\n",
       "      <td>76.500000</td>\n",
       "      <td>13.500000</td>\n",
       "      <td>21.500000</td>\n",
       "      <td>15.000000</td>\n",
       "      <td>0.000000</td>\n",
       "      <td>1.000000</td>\n",
       "      <td>0.000000</td>\n",
       "      <td>1.000000</td>\n",
       "    </tr>\n",
       "    <tr>\n",
       "      <th>max</th>\n",
       "      <td>27.000000</td>\n",
       "      <td>198.000000</td>\n",
       "      <td>109.000000</td>\n",
       "      <td>40.000000</td>\n",
       "      <td>43.000000</td>\n",
       "      <td>22.000000</td>\n",
       "      <td>15.000000</td>\n",
       "      <td>32.000000</td>\n",
       "      <td>2.000000</td>\n",
       "      <td>1.000000</td>\n",
       "    </tr>\n",
       "  </tbody>\n",
       "</table>\n",
       "</div>"
      ],
      "text/plain": [
       "           index  Total Screen Time   Social Networking  \\\n",
       "count  28.000000           28.000000          28.000000   \n",
       "mean   13.500000          113.250000          60.714286   \n",
       "std     8.225975           43.562322          22.853571   \n",
       "min     0.000000           52.000000          25.000000   \n",
       "25%     6.750000           83.500000          41.750000   \n",
       "50%    13.500000          111.000000          58.000000   \n",
       "75%    20.250000          137.250000          76.500000   \n",
       "max    27.000000          198.000000         109.000000   \n",
       "\n",
       "       Reading and Reference      Other  Productivity  Health and Fitness  \\\n",
       "count              28.000000  28.000000     28.000000           28.000000   \n",
       "mean                8.714286  14.821429      9.071429            1.285714   \n",
       "std                 9.340700  13.754605      6.097532            3.952094   \n",
       "min                 0.000000   0.000000      2.000000            0.000000   \n",
       "25%                 2.000000   4.750000      3.000000            0.000000   \n",
       "50%                 5.000000   9.000000      8.000000            0.000000   \n",
       "75%                13.500000  21.500000     15.000000            0.000000   \n",
       "max                40.000000  43.000000     22.000000           15.000000   \n",
       "\n",
       "       Entertainment  Creativity       Yoga  \n",
       "count      28.000000   28.000000  28.000000  \n",
       "mean        1.821429    0.214286   0.571429  \n",
       "std         6.188721    0.568112   0.503953  \n",
       "min         0.000000    0.000000   0.000000  \n",
       "25%         0.000000    0.000000   0.000000  \n",
       "50%         0.000000    0.000000   1.000000  \n",
       "75%         1.000000    0.000000   1.000000  \n",
       "max        32.000000    2.000000   1.000000  "
      ]
     },
     "execution_count": 28,
     "metadata": {},
     "output_type": "execute_result"
    }
   ],
   "source": [
    "# All Funtion one commend\n",
    "df.describe()"
   ]
  },
  {
   "cell_type": "code",
   "execution_count": null,
   "id": "9f6f32c0-f64c-4c73-b5a2-431c126286c5",
   "metadata": {},
   "outputs": [],
   "source": []
  }
 ],
 "metadata": {
  "kernelspec": {
   "display_name": "Python 3 (ipykernel)",
   "language": "python",
   "name": "python3"
  },
  "language_info": {
   "codemirror_mode": {
    "name": "ipython",
    "version": 3
   },
   "file_extension": ".py",
   "mimetype": "text/x-python",
   "name": "python",
   "nbconvert_exporter": "python",
   "pygments_lexer": "ipython3",
   "version": "3.11.9"
  }
 },
 "nbformat": 4,
 "nbformat_minor": 5
}
