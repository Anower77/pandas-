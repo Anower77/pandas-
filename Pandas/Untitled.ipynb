{
 "cells": [
  {
   "cell_type": "markdown",
   "id": "f9394c1b-ed0c-42d7-8a46-db0a12d74e3a",
   "metadata": {},
   "source": [
    "### resource-\n",
    "#### pip install gsheets\n",
    "tutorial link: https://youtu.be/3KWzYM_KafM?si=ulKa-JhY0fzVzLcZ"
   ]
  },
  {
   "cell_type": "code",
   "execution_count": 7,
   "id": "695ffdb2-ce7b-4695-b5d4-54b460a3a5c3",
   "metadata": {},
   "outputs": [],
   "source": [
    "import pandas as pd\n",
    "import gspread"
   ]
  },
  {
   "cell_type": "code",
   "execution_count": 8,
   "id": "1ce7eacc-7045-4431-809f-4d597115772a",
   "metadata": {},
   "outputs": [
    {
     "data": {
      "text/plain": [
       "<gspread.client.Client at 0x216ff209700>"
      ]
     },
     "execution_count": 8,
     "metadata": {},
     "output_type": "execute_result"
    }
   ],
   "source": [
    "gc = gspread.service_account(filename=r\"C:\\Users\\Anowe\\Downloads\\g-sheets-449711-ad4f4fad074a.json\")\n",
    "\n",
    "gc"
   ]
  },
  {
   "cell_type": "code",
   "execution_count": 9,
   "id": "c4d69351-7dd9-43ed-903f-c03e9d1d5a65",
   "metadata": {},
   "outputs": [
    {
     "data": {
      "text/plain": [
       "<Spreadsheet 'data' id:13ICGIpvR-QSaiKvXIgth-1siv6c7OsPmbluQCEhQCrQ>"
      ]
     },
     "execution_count": 9,
     "metadata": {},
     "output_type": "execute_result"
    }
   ],
   "source": [
    "sheet = gc.open_by_url(\"https://docs.google.com/spreadsheets/d/13ICGIpvR-QSaiKvXIgth-1siv6c7OsPmbluQCEhQCrQ/edit?usp=sharing\")\n",
    "sheet"
   ]
  },
  {
   "cell_type": "code",
   "execution_count": 18,
   "id": "5a309dd5-8d5c-41e4-b8c0-c14fa61941fd",
   "metadata": {},
   "outputs": [
    {
     "data": {
      "text/plain": [
       "<Worksheet 'Sheet1' id:0>"
      ]
     },
     "execution_count": 18,
     "metadata": {},
     "output_type": "execute_result"
    }
   ],
   "source": [
    "ws = sheet.worksheet('Sheet1')\n",
    "ws"
   ]
  },
  {
   "cell_type": "code",
   "execution_count": 19,
   "id": "89928eaa-f3af-4e2e-84a5-2233f839dbc1",
   "metadata": {},
   "outputs": [
    {
     "data": {
      "text/html": [
       "<div>\n",
       "<style scoped>\n",
       "    .dataframe tbody tr th:only-of-type {\n",
       "        vertical-align: middle;\n",
       "    }\n",
       "\n",
       "    .dataframe tbody tr th {\n",
       "        vertical-align: top;\n",
       "    }\n",
       "\n",
       "    .dataframe thead th {\n",
       "        text-align: right;\n",
       "    }\n",
       "</style>\n",
       "<table border=\"1\" class=\"dataframe\">\n",
       "  <thead>\n",
       "    <tr style=\"text-align: right;\">\n",
       "      <th></th>\n",
       "      <th>id</th>\n",
       "      <th>name</th>\n",
       "      <th>address</th>\n",
       "      <th>subject</th>\n",
       "    </tr>\n",
       "  </thead>\n",
       "  <tbody>\n",
       "    <tr>\n",
       "      <th>0</th>\n",
       "      <td>1</td>\n",
       "      <td>Anower</td>\n",
       "      <td>feni</td>\n",
       "      <td>math</td>\n",
       "    </tr>\n",
       "    <tr>\n",
       "      <th>1</th>\n",
       "      <td>2</td>\n",
       "      <td>rohan</td>\n",
       "      <td>jime</td>\n",
       "      <td>bangle</td>\n",
       "    </tr>\n",
       "    <tr>\n",
       "      <th>2</th>\n",
       "      <td>3</td>\n",
       "      <td>sojev</td>\n",
       "      <td>feni</td>\n",
       "      <td>english</td>\n",
       "    </tr>\n",
       "    <tr>\n",
       "      <th>3</th>\n",
       "      <td>4</td>\n",
       "      <td>mikar</td>\n",
       "      <td>jime</td>\n",
       "      <td>math</td>\n",
       "    </tr>\n",
       "    <tr>\n",
       "      <th>4</th>\n",
       "      <td>5</td>\n",
       "      <td>kaelrer</td>\n",
       "      <td>feni</td>\n",
       "      <td>physics</td>\n",
       "    </tr>\n",
       "    <tr>\n",
       "      <th>5</th>\n",
       "      <td>6</td>\n",
       "      <td>alier mia</td>\n",
       "      <td>jime</td>\n",
       "      <td>english</td>\n",
       "    </tr>\n",
       "    <tr>\n",
       "      <th>6</th>\n",
       "      <td>7</td>\n",
       "      <td>kameor</td>\n",
       "      <td>feni</td>\n",
       "      <td>math</td>\n",
       "    </tr>\n",
       "    <tr>\n",
       "      <th>7</th>\n",
       "      <td>8</td>\n",
       "      <td>kadsfe</td>\n",
       "      <td>jime</td>\n",
       "      <td>physics</td>\n",
       "    </tr>\n",
       "    <tr>\n",
       "      <th>8</th>\n",
       "      <td>9</td>\n",
       "      <td>yojerwer</td>\n",
       "      <td>feni</td>\n",
       "      <td>english</td>\n",
       "    </tr>\n",
       "    <tr>\n",
       "      <th>9</th>\n",
       "      <td>10</td>\n",
       "      <td>aerewre</td>\n",
       "      <td>jime</td>\n",
       "      <td>math</td>\n",
       "    </tr>\n",
       "    <tr>\n",
       "      <th>10</th>\n",
       "      <td>11</td>\n",
       "      <td>ewrwerwe</td>\n",
       "      <td>feni</td>\n",
       "      <td>physics</td>\n",
       "    </tr>\n",
       "    <tr>\n",
       "      <th>11</th>\n",
       "      <td>12</td>\n",
       "      <td>opqwepw</td>\n",
       "      <td>jime</td>\n",
       "      <td>english</td>\n",
       "    </tr>\n",
       "    <tr>\n",
       "      <th>12</th>\n",
       "      <td>13</td>\n",
       "      <td>poineor</td>\n",
       "      <td>feni</td>\n",
       "      <td>math</td>\n",
       "    </tr>\n",
       "    <tr>\n",
       "      <th>13</th>\n",
       "      <td>14</td>\n",
       "      <td>kpaore</td>\n",
       "      <td>jime</td>\n",
       "      <td>physics</td>\n",
       "    </tr>\n",
       "    <tr>\n",
       "      <th>14</th>\n",
       "      <td>15</td>\n",
       "      <td>opjpoer</td>\n",
       "      <td>feni</td>\n",
       "      <td>english</td>\n",
       "    </tr>\n",
       "    <tr>\n",
       "      <th>15</th>\n",
       "      <td>16</td>\n",
       "      <td>poerer</td>\n",
       "      <td>jime</td>\n",
       "      <td>math</td>\n",
       "    </tr>\n",
       "  </tbody>\n",
       "</table>\n",
       "</div>"
      ],
      "text/plain": [
       "    id       name address  subject\n",
       "0    1     Anower    feni     math\n",
       "1    2      rohan    jime   bangle\n",
       "2    3      sojev    feni  english\n",
       "3    4      mikar    jime     math\n",
       "4    5    kaelrer    feni  physics\n",
       "5    6  alier mia    jime  english\n",
       "6    7     kameor    feni     math\n",
       "7    8     kadsfe    jime  physics\n",
       "8    9   yojerwer    feni  english\n",
       "9   10    aerewre    jime     math\n",
       "10  11   ewrwerwe    feni  physics\n",
       "11  12    opqwepw    jime  english\n",
       "12  13    poineor    feni     math\n",
       "13  14     kpaore    jime  physics\n",
       "14  15    opjpoer    feni  english\n",
       "15  16     poerer    jime     math"
      ]
     },
     "execution_count": 19,
     "metadata": {},
     "output_type": "execute_result"
    }
   ],
   "source": [
    "df = pd.DataFrame(ws.get_all_records())\n",
    "df"
   ]
  },
  {
   "cell_type": "code",
   "execution_count": null,
   "id": "24934269-4aa8-4cc1-9a3b-e873065aa5f6",
   "metadata": {},
   "outputs": [],
   "source": []
  },
  {
   "cell_type": "code",
   "execution_count": null,
   "id": "96a55bfb-647f-4b14-9de2-87d72f29fe33",
   "metadata": {},
   "outputs": [],
   "source": []
  }
 ],
 "metadata": {
  "kernelspec": {
   "display_name": "Python 3 (ipykernel)",
   "language": "python",
   "name": "python3"
  },
  "language_info": {
   "codemirror_mode": {
    "name": "ipython",
    "version": 3
   },
   "file_extension": ".py",
   "mimetype": "text/x-python",
   "name": "python",
   "nbconvert_exporter": "python",
   "pygments_lexer": "ipython3",
   "version": "3.12.6"
  }
 },
 "nbformat": 4,
 "nbformat_minor": 5
}
